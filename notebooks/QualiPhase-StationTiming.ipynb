{
 "cells": [
  {
   "cell_type": "markdown",
   "id": "9829b584-7175-4531-9e95-583e0f22a34e",
   "metadata": {},
   "source": [
    "<h1 style=\"text-align: center; text-decoration: underline\">Qualifikation</h1>\n",
    "\n",
    "<br>\n",
    "\n",
    "## Ablauf:\n",
    "\n",
    "#### Es spielen an jeder **Station** jeweils **4 Spieler 1v1v1v1**. Es geht darum, <u>**so viele KO's wie möglich**</u> zu erreichen.\n",
    "\n",
    "1) Teilnehmer bekommen Nummer am Eingang\n",
    "2) Station öffnen in 2 min Takt: Nummer der nächsten Station, sowie Nummern der Spieler werden auf Beamer angezeit (Bei nicht erscheinen wird spontant aufgefüllt)\n",
    "3) Top 8 Spieler mit dem meisten KO's kommen ins \"Main Tunier\"\n"
   ]
  },
  {
   "metadata": {
    "ExecuteTime": {
     "end_time": "2025-05-06T15:47:17.252436Z",
     "start_time": "2025-05-06T15:47:17.249968Z"
    }
   },
   "cell_type": "code",
   "source": [
    "# Match settings\n",
    "\n",
    "# group size (in players)\n",
    "g = 4\n",
    "\n",
    "# match duration (in min)\n",
    "d = 6\n",
    "\n",
    "# break duration (in min)\n",
    "b = 2"
   ],
   "id": "cad05930a98613cc",
   "outputs": [],
   "execution_count": 12
  },
  {
   "cell_type": "code",
   "id": "90ed96fb-38f0-4c83-9b0e-2bd35aca9469",
   "metadata": {
    "ExecuteTime": {
     "end_time": "2025-05-06T15:47:17.267504Z",
     "start_time": "2025-05-06T15:47:17.264391Z"
    }
   },
   "source": [
    "from IPython.display import Markdown, display\n",
    "from src.generate_plan import schedule_tournament\n",
    "\n",
    "# Anzahl Teilnehmer\n",
    "n = 50\n",
    "\n",
    "# Anzahl Stationen\n",
    "s = 7\n",
    "\n",
    "# Anzahl Runden\n",
    "r = 3\n",
    "\n",
    "# Startzeit\n",
    "t = \"20:20\"\n",
    "\n",
    "turnier_plan = schedule_tournament(g, d, b, n, r, s, t)\n",
    "\n",
    "# Show formated\n",
    "display(Markdown(turnier_plan))\n",
    "\n",
    "# Show raw markdown\n",
    "print(turnier_plan)"
   ],
   "outputs": [
    {
     "data": {
      "text/plain": [
       "<IPython.core.display.Markdown object>"
      ],
      "text/markdown": "### Qualification Phase\n- **Start:** 20:20\n- **Estimated End:** 21:22\n\n| Match Start | Match End | Round | Station | Players |\n|-------------|-----------|-------|---------|---------|\n| 20:20 | 20:26 | 1 | 1 | 8, 49, 39, 7 |\n| 20:22 | 20:28 | 1 | 2 | 48, 50, 24, 22 |\n| 20:24 | 20:30 | 1 | 3 | 2, 31, 12, 30 |\n| 20:26 | 20:32 | 1 | 4 | 18, 42, 43, 37 |\n| 20:28 | 20:34 | 1 | 1 | 10, 17, 45, 13 |\n| 20:28 | 20:34 | 1 | 5 | 38, 41, 47, 15 |\n| 20:30 | 20:36 | 1 | 2 | 44, 19, 33, 26 |\n| 20:30 | 20:36 | 1 | 6 | 27, 29, 5, 9 |\n| 20:32 | 20:38 | 1 | 3 | 3, 40, 25, 46 |\n| 20:32 | 20:38 | 1 | 7 | 1, 20, 28, 23 |\n| 20:34 | 20:40 | 1 | 4 | 21, 35, 14, 4 |\n| 20:36 | 20:42 | 1 | 1 | 32, 36, 11, 6 |\n| 20:36 | 20:42 | 1 | 5 | 34, 16 |\n| 20:44 | 20:50 | 2 | 1 | 3, 22, 31, 41 |\n| 20:44 | 20:50 | 2 | 2 | 34, 9, 24, 43 |\n| 20:46 | 20:52 | 2 | 3 | 47, 35, 10, 42 |\n| 20:46 | 20:52 | 2 | 4 | 39, 27, 8, 25 |\n| 20:48 | 20:54 | 2 | 5 | 5, 21, 49, 11 |\n| 20:48 | 20:54 | 2 | 6 | 38, 6, 50, 29 |\n| 20:50 | 20:56 | 2 | 7 | 23, 37, 20, 36 |\n| 20:52 | 20:58 | 2 | 1 | 28, 40, 17, 46 |\n| 20:52 | 20:58 | 2 | 2 | 44, 45, 14, 1 |\n| 20:54 | 21:00 | 2 | 3 | 48, 12, 26, 19 |\n| 20:54 | 21:00 | 2 | 4 | 13, 15, 32, 4 |\n| 20:56 | 21:02 | 2 | 5 | 16, 18, 2, 7 |\n| 20:56 | 21:02 | 2 | 6 | 30, 33 |\n| 21:04 | 21:10 | 3 | 1 | 7, 50, 45, 14 |\n| 21:04 | 21:10 | 3 | 2 | 26, 28, 42, 5 |\n| 21:06 | 21:12 | 3 | 3 | 30, 25, 22, 19 |\n| 21:06 | 21:12 | 3 | 4 | 34, 48, 12, 8 |\n| 21:08 | 21:14 | 3 | 5 | 20, 35, 13, 1 |\n| 21:08 | 21:14 | 3 | 6 | 33, 16, 11, 9 |\n| 21:10 | 21:16 | 3 | 7 | 39, 49, 6, 36 |\n| 21:12 | 21:18 | 3 | 1 | 38, 21, 10, 15 |\n| 21:12 | 21:18 | 3 | 2 | 24, 40, 18, 37 |\n| 21:14 | 21:20 | 3 | 3 | 32, 27, 43, 31 |\n| 21:14 | 21:20 | 3 | 4 | 41, 29, 23, 17 |\n| 21:16 | 21:22 | 3 | 5 | 46, 3, 2, 4 |\n| 21:16 | 21:22 | 3 | 6 | 44, 47 |"
     },
     "metadata": {},
     "output_type": "display_data"
    },
    {
     "name": "stdout",
     "output_type": "stream",
     "text": [
      "### Qualification Phase\n",
      "- **Start:** 20:20\n",
      "- **Estimated End:** 21:22\n",
      "\n",
      "| Match Start | Match End | Round | Station | Players |\n",
      "|-------------|-----------|-------|---------|---------|\n",
      "| 20:20 | 20:26 | 1 | 1 | 8, 49, 39, 7 |\n",
      "| 20:22 | 20:28 | 1 | 2 | 48, 50, 24, 22 |\n",
      "| 20:24 | 20:30 | 1 | 3 | 2, 31, 12, 30 |\n",
      "| 20:26 | 20:32 | 1 | 4 | 18, 42, 43, 37 |\n",
      "| 20:28 | 20:34 | 1 | 1 | 10, 17, 45, 13 |\n",
      "| 20:28 | 20:34 | 1 | 5 | 38, 41, 47, 15 |\n",
      "| 20:30 | 20:36 | 1 | 2 | 44, 19, 33, 26 |\n",
      "| 20:30 | 20:36 | 1 | 6 | 27, 29, 5, 9 |\n",
      "| 20:32 | 20:38 | 1 | 3 | 3, 40, 25, 46 |\n",
      "| 20:32 | 20:38 | 1 | 7 | 1, 20, 28, 23 |\n",
      "| 20:34 | 20:40 | 1 | 4 | 21, 35, 14, 4 |\n",
      "| 20:36 | 20:42 | 1 | 1 | 32, 36, 11, 6 |\n",
      "| 20:36 | 20:42 | 1 | 5 | 34, 16 |\n",
      "| 20:44 | 20:50 | 2 | 1 | 3, 22, 31, 41 |\n",
      "| 20:44 | 20:50 | 2 | 2 | 34, 9, 24, 43 |\n",
      "| 20:46 | 20:52 | 2 | 3 | 47, 35, 10, 42 |\n",
      "| 20:46 | 20:52 | 2 | 4 | 39, 27, 8, 25 |\n",
      "| 20:48 | 20:54 | 2 | 5 | 5, 21, 49, 11 |\n",
      "| 20:48 | 20:54 | 2 | 6 | 38, 6, 50, 29 |\n",
      "| 20:50 | 20:56 | 2 | 7 | 23, 37, 20, 36 |\n",
      "| 20:52 | 20:58 | 2 | 1 | 28, 40, 17, 46 |\n",
      "| 20:52 | 20:58 | 2 | 2 | 44, 45, 14, 1 |\n",
      "| 20:54 | 21:00 | 2 | 3 | 48, 12, 26, 19 |\n",
      "| 20:54 | 21:00 | 2 | 4 | 13, 15, 32, 4 |\n",
      "| 20:56 | 21:02 | 2 | 5 | 16, 18, 2, 7 |\n",
      "| 20:56 | 21:02 | 2 | 6 | 30, 33 |\n",
      "| 21:04 | 21:10 | 3 | 1 | 7, 50, 45, 14 |\n",
      "| 21:04 | 21:10 | 3 | 2 | 26, 28, 42, 5 |\n",
      "| 21:06 | 21:12 | 3 | 3 | 30, 25, 22, 19 |\n",
      "| 21:06 | 21:12 | 3 | 4 | 34, 48, 12, 8 |\n",
      "| 21:08 | 21:14 | 3 | 5 | 20, 35, 13, 1 |\n",
      "| 21:08 | 21:14 | 3 | 6 | 33, 16, 11, 9 |\n",
      "| 21:10 | 21:16 | 3 | 7 | 39, 49, 6, 36 |\n",
      "| 21:12 | 21:18 | 3 | 1 | 38, 21, 10, 15 |\n",
      "| 21:12 | 21:18 | 3 | 2 | 24, 40, 18, 37 |\n",
      "| 21:14 | 21:20 | 3 | 3 | 32, 27, 43, 31 |\n",
      "| 21:14 | 21:20 | 3 | 4 | 41, 29, 23, 17 |\n",
      "| 21:16 | 21:22 | 3 | 5 | 46, 3, 2, 4 |\n",
      "| 21:16 | 21:22 | 3 | 6 | 44, 47 |\n"
     ]
    }
   ],
   "execution_count": 13
  },
  {
   "metadata": {
    "ExecuteTime": {
     "end_time": "2025-05-06T15:47:17.278242Z",
     "start_time": "2025-05-06T15:47:17.276625Z"
    }
   },
   "cell_type": "code",
   "source": "",
   "id": "a85ace558322eac8",
   "outputs": [],
   "execution_count": null
  }
 ],
 "metadata": {
  "kernelspec": {
   "display_name": "Python 3 (ipykernel)",
   "language": "python",
   "name": "python3"
  },
  "language_info": {
   "codemirror_mode": {
    "name": "ipython",
    "version": 3
   },
   "file_extension": ".py",
   "mimetype": "text/x-python",
   "name": "python",
   "nbconvert_exporter": "python",
   "pygments_lexer": "ipython3",
   "version": "3.11.2"
  }
 },
 "nbformat": 4,
 "nbformat_minor": 5
}
