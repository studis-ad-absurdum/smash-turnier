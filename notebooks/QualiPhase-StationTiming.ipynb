{
 "cells": [
  {
   "cell_type": "markdown",
   "id": "9829b584-7175-4531-9e95-583e0f22a34e",
   "metadata": {},
   "source": [
    "<h1 style=\"text-align: center; text-decoration: underline\">Qualifikation</h1>\n",
    "\n",
    "<br>\n",
    "\n",
    "## Ablauf:\n",
    "\n",
    "#### Es spielen an jeder **Station** jeweils **4 Spieler 1v1v1v1**. Es geht darum, <u>**so viele KO's wie möglich**</u> zu erreichen.\n",
    "\n",
    "1) Teilnehmer bekommen Nummer am Eingang\n",
    "2) Station öffnen in 2 min Takt: Nummer der nächsten Station, sowie Nummern der Spieler werden auf Beamer angezeit (Bei nicht erscheinen wird spontant aufgefüllt)\n",
    "3) Top 8 Spieler mit dem meisten KO's kommen ins \"Main Tunier\"\n"
   ]
  },
  {
   "metadata": {
    "ExecuteTime": {
     "end_time": "2025-05-07T10:02:41.977187Z",
     "start_time": "2025-05-07T10:02:41.974820Z"
    }
   },
   "cell_type": "code",
   "source": [
    "# Match settings\n",
    "\n",
    "# group size (in players)\n",
    "g = 4\n",
    "\n",
    "# match duration (in min)\n",
    "d = 6\n",
    "\n",
    "# break duration (in min)\n",
    "b = 4"
   ],
   "id": "cad05930a98613cc",
   "outputs": [],
   "execution_count": 1
  },
  {
   "cell_type": "code",
   "id": "90ed96fb-38f0-4c83-9b0e-2bd35aca9469",
   "metadata": {
    "ExecuteTime": {
     "end_time": "2025-05-07T10:02:41.996559Z",
     "start_time": "2025-05-07T10:02:41.991289Z"
    }
   },
   "source": [
    "from IPython.display import Markdown, display\n",
    "from src.generate_plan_experimental import schedule_tournament\n",
    "\n",
    "# Anzahl Teilnehmer\n",
    "n = 50\n",
    "\n",
    "# Anzahl Stationen\n",
    "s = 8\n",
    "\n",
    "# Anzahl Runden\n",
    "r = 2\n",
    "\n",
    "# Startzeit\n",
    "t = \"20:20\"\n",
    "\n",
    "turnier_plan = schedule_tournament(g, d, b, n, r, s, t)\n",
    "\n",
    "# Show formated\n",
    "display(Markdown(turnier_plan))\n",
    "\n",
    "# Show raw markdown\n",
    "print(turnier_plan)"
   ],
   "outputs": [
    {
     "data": {
      "text/plain": [
       "<IPython.core.display.Markdown object>"
      ],
      "text/markdown": "### Qualification Phase\n- **Start:** 20:20\n- **Estimated End:** 21:24\n\n| Match Start | Match End | Round | Station | Players |\n|-------------|-----------|-------|---------|---------|\n| 20:20 | 20:26 | 1 | 1 | 41, 35, 48, 23 |\n| 20:20 | 20:26 | 1 | 2 | 37, 26, 18, 9 |\n| 20:24 | 20:30 | 1 | 3 | 29, 15, 8, 20 |\n| 20:24 | 20:30 | 1 | 4 | 21, 6, 2, 3 |\n| 20:28 | 20:34 | 1 | 5 | 47, 27, 12, 42 |\n| 20:28 | 20:34 | 1 | 6 | 17, 24, 10, 11 |\n| 20:32 | 20:38 | 1 | 1 | 28, 1, 45, 19 |\n| 20:32 | 20:38 | 1 | 2 | 31, 32, 34, 16 |\n| 20:36 | 20:42 | 1 | 3 | 40, 14, 49, 4 |\n| 20:36 | 20:42 | 1 | 4 | 38, 25, 43, 36 |\n| 20:40 | 20:46 | 1 | 5 | 46, 50, 13, 39 |\n| 20:40 | 20:46 | 1 | 6 | 33, 30, 44, 22 |\n| 20:44 | 20:50 | 1 | 1 | 7, 5 |\n| 20:54 | 21:00 | 2 | 1 | 49, 14, 43, 2 |\n| 20:54 | 21:00 | 2 | 2 | 40, 42, 50, 22 |\n| 20:58 | 21:04 | 2 | 3 | 20, 47, 27, 31 |\n| 20:58 | 21:04 | 2 | 4 | 34, 5, 25, 24 |\n| 21:02 | 21:08 | 2 | 5 | 48, 46, 17, 13 |\n| 21:02 | 21:08 | 2 | 6 | 39, 4, 7, 26 |\n| 21:06 | 21:12 | 2 | 1 | 33, 41, 44, 18 |\n| 21:06 | 21:12 | 2 | 2 | 3, 28, 10, 12 |\n| 21:10 | 21:16 | 2 | 3 | 37, 15, 29, 21 |\n| 21:10 | 21:16 | 2 | 4 | 35, 16, 19, 23 |\n| 21:14 | 21:20 | 2 | 5 | 6, 11, 36, 1 |\n| 21:14 | 21:20 | 2 | 6 | 9, 45, 32, 38 |\n| 21:18 | 21:24 | 2 | 1 | 8, 30 |"
     },
     "metadata": {},
     "output_type": "display_data"
    },
    {
     "name": "stdout",
     "output_type": "stream",
     "text": [
      "### Qualification Phase\n",
      "- **Start:** 20:20\n",
      "- **Estimated End:** 21:24\n",
      "\n",
      "| Match Start | Match End | Round | Station | Players |\n",
      "|-------------|-----------|-------|---------|---------|\n",
      "| 20:20 | 20:26 | 1 | 1 | 41, 35, 48, 23 |\n",
      "| 20:20 | 20:26 | 1 | 2 | 37, 26, 18, 9 |\n",
      "| 20:24 | 20:30 | 1 | 3 | 29, 15, 8, 20 |\n",
      "| 20:24 | 20:30 | 1 | 4 | 21, 6, 2, 3 |\n",
      "| 20:28 | 20:34 | 1 | 5 | 47, 27, 12, 42 |\n",
      "| 20:28 | 20:34 | 1 | 6 | 17, 24, 10, 11 |\n",
      "| 20:32 | 20:38 | 1 | 1 | 28, 1, 45, 19 |\n",
      "| 20:32 | 20:38 | 1 | 2 | 31, 32, 34, 16 |\n",
      "| 20:36 | 20:42 | 1 | 3 | 40, 14, 49, 4 |\n",
      "| 20:36 | 20:42 | 1 | 4 | 38, 25, 43, 36 |\n",
      "| 20:40 | 20:46 | 1 | 5 | 46, 50, 13, 39 |\n",
      "| 20:40 | 20:46 | 1 | 6 | 33, 30, 44, 22 |\n",
      "| 20:44 | 20:50 | 1 | 1 | 7, 5 |\n",
      "| 20:54 | 21:00 | 2 | 1 | 49, 14, 43, 2 |\n",
      "| 20:54 | 21:00 | 2 | 2 | 40, 42, 50, 22 |\n",
      "| 20:58 | 21:04 | 2 | 3 | 20, 47, 27, 31 |\n",
      "| 20:58 | 21:04 | 2 | 4 | 34, 5, 25, 24 |\n",
      "| 21:02 | 21:08 | 2 | 5 | 48, 46, 17, 13 |\n",
      "| 21:02 | 21:08 | 2 | 6 | 39, 4, 7, 26 |\n",
      "| 21:06 | 21:12 | 2 | 1 | 33, 41, 44, 18 |\n",
      "| 21:06 | 21:12 | 2 | 2 | 3, 28, 10, 12 |\n",
      "| 21:10 | 21:16 | 2 | 3 | 37, 15, 29, 21 |\n",
      "| 21:10 | 21:16 | 2 | 4 | 35, 16, 19, 23 |\n",
      "| 21:14 | 21:20 | 2 | 5 | 6, 11, 36, 1 |\n",
      "| 21:14 | 21:20 | 2 | 6 | 9, 45, 32, 38 |\n",
      "| 21:18 | 21:24 | 2 | 1 | 8, 30 |\n"
     ]
    }
   ],
   "execution_count": 2
  },
  {
   "metadata": {
    "ExecuteTime": {
     "end_time": "2025-05-07T10:02:42.053254Z",
     "start_time": "2025-05-07T10:02:42.052144Z"
    }
   },
   "cell_type": "code",
   "source": "",
   "id": "a85ace558322eac8",
   "outputs": [],
   "execution_count": null
  }
 ],
 "metadata": {
  "kernelspec": {
   "display_name": "Python 3 (ipykernel)",
   "language": "python",
   "name": "python3"
  },
  "language_info": {
   "codemirror_mode": {
    "name": "ipython",
    "version": 3
   },
   "file_extension": ".py",
   "mimetype": "text/x-python",
   "name": "python",
   "nbconvert_exporter": "python",
   "pygments_lexer": "ipython3",
   "version": "3.11.2"
  }
 },
 "nbformat": 4,
 "nbformat_minor": 5
}
